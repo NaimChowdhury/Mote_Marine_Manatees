{
  "nbformat": 4,
  "nbformat_minor": 0,
  "metadata": {
    "colab": {
      "name": "training_nb.ipynb",
      "provenance": [],
      "collapsed_sections": []
    },
    "kernelspec": {
      "name": "python3",
      "display_name": "Python 3"
    },
    "accelerator": "GPU"
  },
  "cells": [
    {
      "cell_type": "markdown",
      "metadata": {
        "id": "2Uv0MDUSsuPL",
        "colab_type": "text"
      },
      "source": [
        "## **Imports**"
      ]
    },
    {
      "cell_type": "code",
      "metadata": {
        "id": "JdTVZr0WssyH",
        "colab_type": "code",
        "colab": {}
      },
      "source": [
        "%matplotlib inline\n",
        "import torchvision\n",
        "import torchvision.transforms as transforms\n",
        "from torch.utils.data import DataLoader,Dataset\n",
        "import matplotlib.pyplot as plt\n",
        "import torchvision.utils\n",
        "import numpy as np\n",
        "import random\n",
        "from PIL import Image\n",
        "import cv2\n",
        "import torch   \n",
        "import torch.nn as nn\n",
        "from torch import optim\n",
        "import torch.nn.functional as F\n",
        "from tqdm import tqdm\n",
        "from torch.optim import lr_scheduler\n",
        "import time\n",
        "import copy"
      ],
      "execution_count": null,
      "outputs": []
    },
    {
      "cell_type": "code",
      "metadata": {
        "id": "69ZCApzvN5uD",
        "colab_type": "code",
        "colab": {
          "base_uri": "https://localhost:8080/",
          "height": 34
        },
        "outputId": "24ae72f8-a3ac-404f-b91e-7b58092074ca"
      },
      "source": [
        "if torch.cuda.is_available():\n",
        "  device = torch.device(\"cuda:0\")\n",
        "  print(\"Running on the GPU\")\n",
        "else: \n",
        "  device = torch.device(\"cpu\")\n",
        "  print(\"Running on the CPU\")"
      ],
      "execution_count": null,
      "outputs": [
        {
          "output_type": "stream",
          "text": [
            "Running on the GPU\n"
          ],
          "name": "stdout"
        }
      ]
    },
    {
      "cell_type": "code",
      "metadata": {
        "id": "SCqtfJUCsZ22",
        "colab_type": "code",
        "colab": {}
      },
      "source": [
        "# declate image size\n",
        "imsize = 105"
      ],
      "execution_count": null,
      "outputs": []
    },
    {
      "cell_type": "code",
      "metadata": {
        "id": "vnGSbtcHoaPA",
        "colab_type": "code",
        "colab": {
          "base_uri": "https://localhost:8080/",
          "height": 122
        },
        "outputId": "35a1d03e-96f7-4d47-a482-53d1ec2afd55"
      },
      "source": [
        "# Moun to Google Drive\n",
        "from google.colab import drive\n",
        "drive.mount('/content/drive')"
      ],
      "execution_count": null,
      "outputs": [
        {
          "output_type": "stream",
          "text": [
            "Go to this URL in a browser: https://accounts.google.com/o/oauth2/auth?client_id=947318989803-6bn6qk8qdgf4n4g3pfee6491hc0brc4i.apps.googleusercontent.com&redirect_uri=urn%3aietf%3awg%3aoauth%3a2.0%3aoob&response_type=code&scope=email%20https%3a%2f%2fwww.googleapis.com%2fauth%2fdocs.test%20https%3a%2f%2fwww.googleapis.com%2fauth%2fdrive%20https%3a%2f%2fwww.googleapis.com%2fauth%2fdrive.photos.readonly%20https%3a%2f%2fwww.googleapis.com%2fauth%2fpeopleapi.readonly\n",
            "\n",
            "Enter your authorization code:\n",
            "··········\n",
            "Mounted at /content/drive\n"
          ],
          "name": "stdout"
        }
      ]
    },
    {
      "cell_type": "code",
      "metadata": {
        "id": "VPg8fktJo0pO",
        "colab_type": "code",
        "colab": {
          "base_uri": "https://localhost:8080/",
          "height": 51
        },
        "outputId": "bc04c16a-9083-44e8-ee6c-1738deb05728"
      },
      "source": [
        "! ls '/content/drive/My Drive/Mote_Manatee'"
      ],
      "execution_count": null,
      "outputs": [
        {
          "output_type": "stream",
          "text": [
            "alldata_aug2.npy  jul27.pth\t out3.npy\tpaired_aug2.npy\n",
            "jul23.pth\t  MMLDUs_BatchA  out_jul23.npy\n"
          ],
          "name": "stdout"
        }
      ]
    },
    {
      "cell_type": "code",
      "metadata": {
        "id": "Qc0_u2rXo6gm",
        "colab_type": "code",
        "colab": {}
      },
      "source": [
        "# Read the npy files\n",
        "manatee_data = np.load('/content/drive/My Drive/Mote_Manatee/alldata_aug2.npy', allow_pickle=True)\n",
        "manatee_paired = np.load('/content/drive/My Drive/Mote_Manatee/paired_aug2.npy', allow_pickle=True)"
      ],
      "execution_count": null,
      "outputs": []
    },
    {
      "cell_type": "markdown",
      "metadata": {
        "id": "QaAysjr0H9vG",
        "colab_type": "text"
      },
      "source": [
        "Manatee_paired is all the found pairs in the dataset. Manatee_data is all the images in the dataset"
      ]
    },
    {
      "cell_type": "code",
      "metadata": {
        "id": "WQV7OY1RpVgb",
        "colab_type": "code",
        "colab": {
          "base_uri": "https://localhost:8080/",
          "height": 51
        },
        "outputId": "6584f4c2-274b-4550-f8fd-f6636249377b"
      },
      "source": [
        "print('Manatee_data shape is: ', manatee_data.shape)\n",
        "print('Manatee_paired data shape is: ',manatee_paired.shape)"
      ],
      "execution_count": null,
      "outputs": [
        {
          "output_type": "stream",
          "text": [
            "Manatee_data shape is:  (1392, 105, 105)\n",
            "Manatee_paired data shape is:  (726, 3)\n"
          ],
          "name": "stdout"
        }
      ]
    },
    {
      "cell_type": "code",
      "metadata": {
        "id": "EBCj6K0FM9lJ",
        "colab_type": "code",
        "colab": {}
      },
      "source": [
        "# Change label from index-base to 1-0\n",
        "\n",
        "for labeled_pair in manatee_paired:\n",
        "  label = labeled_pair[2].argmax()\n",
        "  labeled_pair[2] = label"
      ],
      "execution_count": null,
      "outputs": []
    },
    {
      "cell_type": "markdown",
      "metadata": {
        "id": "d6ZavusPZzrT",
        "colab_type": "text"
      },
      "source": [
        "## Make Data\n"
      ]
    },
    {
      "cell_type": "markdown",
      "metadata": {
        "id": "mZ_TNAghVCnY",
        "colab_type": "text"
      },
      "source": [
        "Since we need genuine pairs for testing accuracy. I will reserve 10% of genuine pairs from manatee_paired."
      ]
    },
    {
      "cell_type": "code",
      "metadata": {
        "id": "kWh_dKpuJMlp",
        "colab_type": "code",
        "colab": {
          "base_uri": "https://localhost:8080/",
          "height": 34
        },
        "outputId": "3fbbaa9f-7b22-4fe3-bcaa-5fb03db5cda9"
      },
      "source": [
        "# Reserve 10% of paired data for testing\n",
        "num_points = round(manatee_paired.shape[0] * 0.1) #73\n",
        "# set seed for reproducibility\n",
        "np.random.seed(0)\n",
        "# get 73 'random' numbers to use as indeces for manatee_paired data\n",
        "indices = np.random.choice(manatee_paired.shape[0], num_points, replace=False)\n",
        "test_paired = manatee_paired[indices]\n",
        "test_paired.shape\n"
      ],
      "execution_count": null,
      "outputs": [
        {
          "output_type": "execute_result",
          "data": {
            "text/plain": [
              "(73, 3)"
            ]
          },
          "metadata": {
            "tags": []
          },
          "execution_count": 125
        }
      ]
    },
    {
      "cell_type": "code",
      "metadata": {
        "id": "Jqx1wSyGL6TA",
        "colab_type": "code",
        "colab": {
          "base_uri": "https://localhost:8080/",
          "height": 34
        },
        "outputId": "b1606991-efa4-4a9f-8c9b-d530a212912c"
      },
      "source": [
        "# get the remaining indices\n",
        "indices_to_remove = indices\n",
        "train_paired = np.delete(manatee_paired, indices_to_remove, axis=0)\n",
        "train_paired.shape"
      ],
      "execution_count": null,
      "outputs": [
        {
          "output_type": "execute_result",
          "data": {
            "text/plain": [
              "(653, 3)"
            ]
          },
          "metadata": {
            "tags": []
          },
          "execution_count": 126
        }
      ]
    },
    {
      "cell_type": "markdown",
      "metadata": {
        "id": "LKEOV9cmU7Qp",
        "colab_type": "text"
      },
      "source": [
        "Now that the genuine pairs and all the images are available. I created this class to make the train-val dataset. The dataset will be a numpy array with each element being [img1, img2, label]. This dataset will include genuine and impostor pairs.\n",
        "\n",
        "Note: make_dataset() will always return all the imporstor pairs followed by all the genuine pairs. It is important to shuffle the data once it has been created."
      ]
    },
    {
      "cell_type": "code",
      "metadata": {
        "id": "RPpveCb9Z3tO",
        "colab_type": "code",
        "colab": {}
      },
      "source": [
        "class MakeTrainValData():\n",
        "  \"\"\"\n",
        "  This class is meant to make the train-val dataset by pairing impostor pairs and incorporating genuine pairs.\n",
        "  \"\"\"\n",
        "  def __init__(self, train_paired, all_data):\n",
        "    self.train_paired = train_paired\n",
        "    self.all_data = all_data\n",
        "\n",
        "  def make_dataset(self, pairs_per_image):\n",
        "    data = []\n",
        "\n",
        "    # make different pairs\n",
        "    for img in self.all_data:\n",
        "      img1 = img\n",
        "      for i in range(pairs_per_image):\n",
        "        random = np.random.randint(0, self.all_data.shape[0])\n",
        "        img2 = self.all_data[random]\n",
        "        label = 0\n",
        "\n",
        "        data.append([img1, img2, label])\n",
        "\n",
        "    # add labeled pairs\n",
        "    for labeled_pair in self.train_paired:\n",
        "      data.append(labeled_pair)\n",
        "\n",
        "    return np.asarray(data)"
      ],
      "execution_count": null,
      "outputs": []
    },
    {
      "cell_type": "code",
      "metadata": {
        "id": "BjVakL5diUb8",
        "colab_type": "code",
        "colab": {
          "base_uri": "https://localhost:8080/",
          "height": 34
        },
        "outputId": "f81517bb-a249-438b-be0d-51e2204b7700"
      },
      "source": [
        "data = MakeTrainValData(train_paired, manatee_data)\n",
        "data = data.make_dataset(1)\n",
        "print(f'Dataset has been created, with {data.shape[0]} labeled pairs')"
      ],
      "execution_count": null,
      "outputs": [
        {
          "output_type": "stream",
          "text": [
            "Dataset has been created, with 2045 labeled pairs\n"
          ],
          "name": "stdout"
        }
      ]
    },
    {
      "cell_type": "code",
      "metadata": {
        "id": "eklQ03eumb1e",
        "colab_type": "code",
        "colab": {
          "base_uri": "https://localhost:8080/",
          "height": 34
        },
        "outputId": "ffb10c83-f374-4025-8697-66471e30bea3"
      },
      "source": [
        "# IMPORTANT! Shuffle dataset\n",
        "np.random.seed(10)\n",
        "shuffled_data = np.random.permutation(data)\n",
        "shuffled_data.shape"
      ],
      "execution_count": null,
      "outputs": [
        {
          "output_type": "execute_result",
          "data": {
            "text/plain": [
              "(2045, 3)"
            ]
          },
          "metadata": {
            "tags": []
          },
          "execution_count": 129
        }
      ]
    },
    {
      "cell_type": "markdown",
      "metadata": {
        "id": "uG-53LpNAngd",
        "colab_type": "text"
      },
      "source": [
        "## Separate train-val-test sets"
      ]
    },
    {
      "cell_type": "code",
      "metadata": {
        "id": "DGboeiJLnET9",
        "colab_type": "code",
        "colab": {
          "base_uri": "https://localhost:8080/",
          "height": 51
        },
        "outputId": "4ae52f80-35d8-4347-82f5-a7922713d5d7"
      },
      "source": [
        "val_num = round(shuffled_data.shape[0] * 0.1)\n",
        "train_num = round(shuffled_data.shape[0] * 0.9)\n",
        "print(f'Training data points: {train_num}')\n",
        "print(f'Validation data points: {val_num}')"
      ],
      "execution_count": null,
      "outputs": [
        {
          "output_type": "stream",
          "text": [
            "Training data points: 1840\n",
            "Validation data points: 204\n"
          ],
          "name": "stdout"
        }
      ]
    },
    {
      "cell_type": "code",
      "metadata": {
        "id": "rDneO2nlZzA8",
        "colab_type": "code",
        "colab": {
          "base_uri": "https://localhost:8080/",
          "height": 51
        },
        "outputId": "cd88f72b-ef5c-487e-e29c-41caed6b793e"
      },
      "source": [
        "###### GET TRAINING/VAL DATA POINTS\n",
        "\n",
        "# set seed for reproducibility\n",
        "np.random.seed(0)\n",
        "# get train_num 'random' numbers to use as indeces for shuffled_data\n",
        "indices = np.random.choice(shuffled_data.shape[0], train_num, replace=False)\n",
        "train_data = shuffled_data[indices]\n",
        "print(f'train_data shape is: {train_data.shape}')\n",
        "\n",
        "# drop train indices from shuffled_data, which are the val_data points\n",
        "indices_to_remove = indices\n",
        "val_data = np.delete(shuffled_data, indices_to_remove, axis=0)\n",
        "print(f'val_data shape is: {val_data.shape}')"
      ],
      "execution_count": null,
      "outputs": [
        {
          "output_type": "stream",
          "text": [
            "train_data shape is: (1840, 3)\n",
            "val_data shape is: (205, 3)\n"
          ],
          "name": "stdout"
        }
      ]
    },
    {
      "cell_type": "markdown",
      "metadata": {
        "id": "hpW9q_CwKTx2",
        "colab_type": "text"
      },
      "source": [
        "## Compute mean and std for Training Data"
      ]
    },
    {
      "cell_type": "code",
      "metadata": {
        "id": "pN-5yrRtKad8",
        "colab_type": "code",
        "colab": {}
      },
      "source": [
        "class TrainDataNormalize(Dataset):\n",
        "  def __init__(self, train_data, imsize=105, compute_mean_std=None):\n",
        "    self.train_data = train_data\n",
        "    self.imsize = imsize\n",
        "    self.compute_mean_std = compute_mean_std\n",
        "\n",
        "  def __len__(self):\n",
        "    return self.train_data.shape[0]\n",
        "\n",
        "  def __getitem__(self, idx):\n",
        "    x1 = torch.Tensor(self.train_data[idx][0]).view(-1, self.imsize, self.imsize)\n",
        "    x2 = torch.Tensor(self.train_data[idx][1]).view(-1, self.imsize, self.imsize)\n",
        "    y = torch.Tensor([self.train_data[idx][2]])\n",
        "\n",
        "    if self.compute_mean_std:\n",
        "      return x1/255.0,x2/255.0\n",
        "    else:\n",
        "      return x1/255.0, x2/255.0, y"
      ],
      "execution_count": null,
      "outputs": []
    },
    {
      "cell_type": "code",
      "metadata": {
        "id": "SJ7vH5R3eA9H",
        "colab_type": "code",
        "colab": {}
      },
      "source": [
        "train_data_compute = TrainDataNormalize(train_data, compute_mean_std=True)"
      ],
      "execution_count": null,
      "outputs": []
    },
    {
      "cell_type": "markdown",
      "metadata": {
        "id": "hCnEmj0CcdqR",
        "colab_type": "text"
      },
      "source": [
        "We need to manually implement the formulas for the mean and stantard deviation and iterate over small batches of the dataset.\n",
        "\n",
        "source: https://deeplizard.com/learn/video/lu7TCu7HeYc"
      ]
    },
    {
      "cell_type": "code",
      "metadata": {
        "id": "YkrQtcGJcX9X",
        "colab_type": "code",
        "colab": {
          "base_uri": "https://localhost:8080/",
          "height": 34
        },
        "outputId": "d0953d34-8bd1-4ea6-efbe-d9793fffb9e6"
      },
      "source": [
        "# First, we create a data loader with a small batch size\n",
        "loader = DataLoader(train_data_compute, batch_size=1000, num_workers=1)\n",
        "\n",
        "# Then, we calculate our n value or total number of pixels\n",
        "num_of_pixels = train_num * 105 * 105   #Note that 105*105 is the height and width of the images in the dataset\n",
        "\n",
        "# Now we sum the pixel values by iterating over each batch,\n",
        "# and we calculate the mean by dividing this sum by the total num of pixels\n",
        "total_sum = 0\n",
        "for batch in loader: total_sum += batch[0].sum()\n",
        "mean = total_sum/num_of_pixels\n",
        "\n",
        "# Next we calculate the sum of the squared errors by iterating\n",
        "# through each batch. This allows us to calculate st by dividing\n",
        "# the sum of the squared errors by the total number of pixels and \n",
        "# square rooting the result\n",
        "\n",
        "sum_of_squared_error = 0\n",
        "for batch in loader:\n",
        "  sum_of_squared_error += ((batch[0] - mean).pow(2)).sum()\n",
        "std = torch.sqrt(sum_of_squared_error / num_of_pixels)\n",
        "\n",
        "\n",
        "print(f'mean is {mean}, std is {std}')"
      ],
      "execution_count": null,
      "outputs": [
        {
          "output_type": "stream",
          "text": [
            "mean is 0.9760749936103821, std is 0.12026530504226685\n"
          ],
          "name": "stdout"
        }
      ]
    },
    {
      "cell_type": "code",
      "metadata": {
        "id": "i2jeIrdFbXWz",
        "colab_type": "code",
        "colab": {}
      },
      "source": [
        "mean = 0.9760749936103821\n",
        "std = 0.12026530504226685"
      ],
      "execution_count": null,
      "outputs": []
    },
    {
      "cell_type": "markdown",
      "metadata": {
        "id": "Rh1csP7xsWJO",
        "colab_type": "text"
      },
      "source": [
        "# **Dataset class loader**"
      ]
    },
    {
      "cell_type": "code",
      "metadata": {
        "id": "YZpvIBigsd6G",
        "colab_type": "code",
        "colab": {}
      },
      "source": [
        "class TrainValDataset(Dataset):\n",
        "  \"\"\" Manatee Dataset Class \"\"\"\n",
        "\n",
        "  def __init__(self, manatee_data, imsize, transform=None):\n",
        "    \"\"\"\n",
        "    Args: \n",
        "        manatee_data (np array): numpy structured as (x1,x2,y)\n",
        "        transform (optional): optional transform to be applied on a sample\n",
        "    \"\"\"\n",
        "    self.manatee_data = manatee_data\n",
        "    self.transform = transform\n",
        "    self.imsize = imsize\n",
        "    #self.mean = mean \n",
        "    #self.std = std\n",
        "\n",
        "  def __len__(self):\n",
        "    return self.manatee_data.shape[0]\n",
        "\n",
        "  def __getitem__(self, idx):\n",
        "    #x1 = torch.Tensor(self.manatee_data[idx][0]).view(-1, self.imsize, self.imsize)\n",
        "    #x2 = torch.Tensor(self.manatee_data[idx][1]).view(-1, self.imsize, self.imsize)\n",
        "    y = torch.Tensor([self.manatee_data[idx][2]])\n",
        "    x1 = self.manatee_data[idx][0]\n",
        "    x2 = self.manatee_data[idx][1]\n",
        "\n",
        "    if self.transform:\n",
        "      pil_x1 = Image.fromarray(x1, mode='1')\n",
        "      pil_x2 = Image.fromarray(x2, mode='1')\n",
        "      x1 = self.transform(pil_x1)\n",
        "      x2 = self.transform(pil_x2)\n",
        "\n",
        "    return x1, x2, y"
      ],
      "execution_count": null,
      "outputs": []
    },
    {
      "cell_type": "code",
      "metadata": {
        "id": "UwRvNskTSZri",
        "colab_type": "code",
        "colab": {}
      },
      "source": [
        "train_data_class = TrainValDataset(train_data, 105, transform=transforms.Compose([transforms.ToTensor(),\n",
        "                                                                                  transforms.Normalize([mean], [std])]))"
      ],
      "execution_count": null,
      "outputs": []
    },
    {
      "cell_type": "code",
      "metadata": {
        "id": "hZZQY6B8S_I6",
        "colab_type": "code",
        "colab": {}
      },
      "source": [
        "# Train data class example:\n",
        "#train_data_class.__getitem__(0)"
      ],
      "execution_count": null,
      "outputs": []
    },
    {
      "cell_type": "code",
      "metadata": {
        "id": "HjEJhFQ7_ZZB",
        "colab_type": "code",
        "colab": {}
      },
      "source": [
        "val_data_class = TrainValDataset(val_data, 105, transform=transforms.Compose([transforms.ToTensor(),\n",
        "                                                                                  transforms.Normalize([mean], [std])]))"
      ],
      "execution_count": null,
      "outputs": []
    },
    {
      "cell_type": "code",
      "metadata": {
        "id": "ka2Ms04Ocrzr",
        "colab_type": "code",
        "colab": {}
      },
      "source": [
        "# Val data class example:\n",
        "#val_data_class.__getitem__(0)"
      ],
      "execution_count": null,
      "outputs": []
    },
    {
      "cell_type": "markdown",
      "metadata": {
        "id": "g_ot4ZtNr0LD",
        "colab_type": "text"
      },
      "source": [
        "# **Neural Net Definition**"
      ]
    },
    {
      "cell_type": "code",
      "metadata": {
        "id": "PA-3oy35sBg_",
        "colab_type": "code",
        "colab": {}
      },
      "source": [
        "class Siamese(nn.Module):\n",
        "\n",
        "    def __init__(self):\n",
        "        super(Siamese, self).__init__()\n",
        "        self.conv = nn.Sequential(\n",
        "            nn.Conv2d(1, 64, 10),  # 64@96*96\n",
        "            nn.ReLU(inplace=True),\n",
        "            nn.MaxPool2d(2),  # 64@48*48\n",
        "            nn.Conv2d(64, 128, 7),\n",
        "            nn.ReLU(),    # 128@42*42\n",
        "            nn.MaxPool2d(2),   # 128@21*21\n",
        "            nn.Conv2d(128, 128, 4),\n",
        "            nn.ReLU(), # 128@18*18\n",
        "            nn.MaxPool2d(2), # 128@9*9\n",
        "            nn.Conv2d(128, 256, 4),\n",
        "            nn.ReLU(),   # 256@6*6\n",
        "        )\n",
        "        self.linear = nn.Sequential(nn.Linear(9216, 4096)) #512 out\n",
        "        #self.dropout = nn.Dropout(0.5)\n",
        "        self.out = nn.Sequential(nn.Linear(4096, 1), nn.Sigmoid())\n",
        "\n",
        "    def forward2(self, x1, x2):\n",
        "      out1 = self.forward_one(x1)\n",
        "      out2 = self.forward_one(x2)\n",
        "      #L2_distance = torch.nn.PairwiseDistance(p=2, keepdim = True)\n",
        "      #distance = L2_distance(out1, out2)\n",
        "      #out = self.out(distance)\n",
        "      cos = nn.CosineSimilarity(eps=1e-6)\n",
        "      # similarity metric CV SDM\n",
        "      out = cos(out1,out2)\n",
        "      return out\n",
        "\n",
        "    def forward_one(self, x):\n",
        "        x = self.conv(x)\n",
        "        x = x.view(x.size()[0], -1)\n",
        "        out = self.linear(x)\n",
        "        #output = self.dropout(out)\n",
        "        return out\n",
        "\n",
        "    def forward(self, input1, input2):\n",
        "        out1 = self.forward_one(input1)\n",
        "        out2 = self.forward_one(input2)\n",
        "        L1_distance = torch.abs(out1 - out2)\n",
        "        output = self.out(L1_distance)\n",
        "        return output"
      ],
      "execution_count": null,
      "outputs": []
    },
    {
      "cell_type": "code",
      "metadata": {
        "id": "dHXbJYEeq8M-",
        "colab_type": "code",
        "colab": {
          "base_uri": "https://localhost:8080/",
          "height": 34
        },
        "outputId": "a2eb4b50-84bb-44ea-a08c-fb5312c48d31"
      },
      "source": [
        "net = Siamese()\n",
        "# push to device\n",
        "net = net.to(device)\n",
        "print(sum(p.numel() for p in net.parameters()))"
      ],
      "execution_count": null,
      "outputs": [
        {
          "output_type": "stream",
          "text": [
            "38951745\n"
          ],
          "name": "stdout"
        }
      ]
    },
    {
      "cell_type": "markdown",
      "metadata": {
        "id": "lA8CusJDsJGR",
        "colab_type": "text"
      },
      "source": [
        "## Alternative Loss Function (Contrastive Loss)\n",
        "\n"
      ]
    },
    {
      "cell_type": "code",
      "metadata": {
        "id": "PUhU6JiCrm0H",
        "colab_type": "code",
        "colab": {}
      },
      "source": [
        "class ContrastiveLoss(torch.nn.Module):\n",
        "    \"\"\"\n",
        "    Contrastive loss function.\n",
        "    Based on: http://yann.lecun.com/exdb/publis/pdf/hadsell-chopra-lecun-06.pdf\n",
        "    \"\"\"\n",
        "\n",
        "    def __init__(self, margin=2.0):\n",
        "        super(ContrastiveLoss, self).__init__()\n",
        "        self.margin = margin\n",
        "\n",
        "    def forward(self, output1, output2, label):\n",
        "        euclidean_distance = F.pairwise_distance(output1, output2, p=1, keepdim = True)\n",
        "        loss_contrastive = torch.mean((1-label) * torch.pow(euclidean_distance, 2) +\n",
        "                                      (label) * torch.pow(torch.clamp(self.margin - euclidean_distance, min=0.0), 2))\n",
        "\n",
        "        return loss_contrastive\n",
        "\n",
        "class ContrastiveLoss2(nn.Module):\n",
        "    \"\"\"\n",
        "    Contrastive loss\n",
        "    Takes embeddings of two samples and a target label == 1 if samples are from the same class and label == 0 otherwise\n",
        "    \"\"\"\n",
        "\n",
        "    def __init__(self, margin):\n",
        "        super(ContrastiveLoss2, self).__init__()\n",
        "        self.margin = 0.2\n",
        "        self.eps = 1e-9\n",
        "\n",
        "    def forward(self, output1, output2, target, size_average=True):\n",
        "        distances = (output2 - output1).pow(2).sum(1)  # squared distances\n",
        "        losses = 0.5 * (target.float() * distances +\n",
        "                        (1 + -1 * target).float() * F.relu(self.margin - (distances + self.eps).sqrt()).pow(2))\n",
        "        return losses.mean() if size_average else losses.sum()"
      ],
      "execution_count": null,
      "outputs": []
    },
    {
      "cell_type": "markdown",
      "metadata": {
        "id": "s2bHpIUMz_Vo",
        "colab_type": "text"
      },
      "source": [
        "Margin in contrastive loss is more like regulirization constraint it defines hypersphere radius where all similar samples should locate .So from this point of view learning the margin will lead to overtraining “ bias-variance problem”. \n",
        "\n",
        "You can just normalize features using L2 before using Contrastive Loss. Then the margin can be constant while training because the distance between features will be normalized. You can of course change margin in dynamic way, but I do not think it will gain any boost. Idea from A Unified Embedding for Face Recognition and Clustering (although they use Triplet Loss, the same idea can be used in Siamese Network)"
      ]
    },
    {
      "cell_type": "markdown",
      "metadata": {
        "id": "YbHPC2YWragA",
        "colab_type": "text"
      },
      "source": [
        "## Forward pass test example"
      ]
    },
    {
      "cell_type": "code",
      "metadata": {
        "id": "0xZfJj0j9D9Q",
        "colab_type": "code",
        "colab": {
          "base_uri": "https://localhost:8080/",
          "height": 51
        },
        "outputId": "8ba7e562-29eb-4ac2-c483-168d67becf01"
      },
      "source": [
        "train_loader_tst = DataLoader(train_data_class, batch_size=1, shuffle=True, num_workers=1)\n",
        "net_tst = Siamese()\n",
        "\n",
        "for x1, x2, label in train_loader_tst:\n",
        "  out = net_tst(x1,x2)\n",
        "  print(out)\n",
        "  loss = nn.functional.binary_cross_entropy(out, label)\n",
        "  print(loss)\n",
        "  break\n"
      ],
      "execution_count": null,
      "outputs": [
        {
          "output_type": "stream",
          "text": [
            "tensor([[0.4994]], grad_fn=<SigmoidBackward>)\n",
            "tensor(0.6943, grad_fn=<BinaryCrossEntropyBackward>)\n"
          ],
          "name": "stdout"
        }
      ]
    },
    {
      "cell_type": "markdown",
      "metadata": {
        "id": "Ayb2zmFGs6Ii",
        "colab_type": "text"
      },
      "source": [
        "# **Train**"
      ]
    },
    {
      "cell_type": "code",
      "metadata": {
        "id": "2GfPJIO0CUBm",
        "colab_type": "code",
        "colab": {}
      },
      "source": [
        "#Create DataLoader iterators\n",
        "train_loader = DataLoader(train_data_class, batch_size=64, shuffle=True, num_workers=2) \n",
        "val_loader = DataLoader(val_data_class, batch_size=64, shuffle=True, num_workers=2)"
      ],
      "execution_count": null,
      "outputs": []
    },
    {
      "cell_type": "code",
      "metadata": {
        "id": "Es9yceepFtTG",
        "colab_type": "code",
        "colab": {}
      },
      "source": [
        "dataloaders = {'train': train_loader, 'val':val_loader}\n",
        "dataset_sizes = {'train': train_data.shape[0], 'val': val_data.shape[0]}"
      ],
      "execution_count": null,
      "outputs": []
    },
    {
      "cell_type": "code",
      "metadata": {
        "id": "w2mXJMezFNsM",
        "colab_type": "code",
        "colab": {}
      },
      "source": [
        "def train_model(model, optimizer, scheduler, num_epochs=25):\n",
        "    since = time.time()\n",
        "\n",
        "    best_model_wts = copy.deepcopy(model.state_dict())\n",
        "    best_loss = 1.0\n",
        "    #best_acc = 0.0\n",
        "\n",
        "    for epoch in range(num_epochs):\n",
        "        print('Epoch {}/{}'.format(epoch, num_epochs - 1))\n",
        "        print('-' * 10)\n",
        "\n",
        "        # Each epoch has a training and validation phase\n",
        "        for phase in ['train', 'val']:\n",
        "            if phase == 'train':\n",
        "                model.train()  # Set model to training mode\n",
        "            else:\n",
        "                model.eval()   # Set model to evaluate mode\n",
        "\n",
        "            running_loss = 0.0\n",
        "            #running_corrects = 0\n",
        "\n",
        "            # Iterate over data.\n",
        "            for x1,x2,y in dataloaders[phase]:\n",
        "                x1 = x1.to(device)\n",
        "                x2 = x2.to(device)\n",
        "                y = y.to(device)\n",
        "\n",
        "                # zero the parameter gradients\n",
        "                optimizer.zero_grad()\n",
        "\n",
        "                \n",
        "                # track history if only in train\n",
        "                with torch.set_grad_enabled(phase == 'train'):\n",
        "                    # net.forward()\n",
        "                    preds = model(x1,x2)\n",
        "                    # compute loss\n",
        "                    #loss = criterion(out1,out2, y)\n",
        "                    loss = torch.nn.functional.binary_cross_entropy(preds, y)\n",
        "\n",
        "                    # backward + optimize only if in training phase\n",
        "                    if phase == 'train':\n",
        "                        loss.backward()\n",
        "                        optimizer.step()\n",
        "\n",
        "                # statistics\n",
        "                running_loss += loss.item() * x1.size(0)\n",
        "                #running_corrects += torch.sum(preds == y)\n",
        "            if phase == 'train':\n",
        "                scheduler.step()\n",
        "\n",
        "            epoch_loss = running_loss / dataset_sizes[phase]\n",
        "            #epoch_acc = running_corrects.double() / dataset_sizes[phase]\n",
        "\n",
        "            print('{} Loss: {:.4f}'.format(\n",
        "                phase, epoch_loss)) #epoch_acc))\n",
        "\n",
        "            # deep copy the model\n",
        "            if phase == 'val' and epoch_loss < best_loss:\n",
        "                best_loss = epoch_loss\n",
        "                best_model_wts = copy.deepcopy(model.state_dict())\n",
        "\n",
        "        print()\n",
        "\n",
        "    time_elapsed = time.time() - since\n",
        "    print('Training complete in {:.0f}m {:.0f}s'.format(\n",
        "        time_elapsed // 60, time_elapsed % 60))\n",
        "    print('Best val loss: {:4f}'.format(best_loss))\n",
        "\n",
        "    # load best model weights\n",
        "    model.load_state_dict(best_model_wts)\n",
        "    return model"
      ],
      "execution_count": null,
      "outputs": []
    },
    {
      "cell_type": "markdown",
      "metadata": {
        "id": "HiBZKaa3jK82",
        "colab_type": "text"
      },
      "source": [
        ""
      ]
    },
    {
      "cell_type": "code",
      "metadata": {
        "id": "TBisFC3Fdg1q",
        "colab_type": "code",
        "colab": {
          "base_uri": "https://localhost:8080/",
          "height": 368
        },
        "outputId": "5f76e041-92c0-41bd-f118-7b25e012c5c0"
      },
      "source": [
        "#! pip install torch-lr-finder\n",
        "from torch_lr_finder import LRFinder\n",
        "\n",
        "model = Siamese()\n",
        "criterion = nn.BCELoss()\n",
        "optimizer = optim.Adam(model.parameters(), lr=1e-7, weight_decay=1e-2)\n",
        "lr_finder = LRFinder(model, optimizer, criterion, device=\"cuda\")\n",
        "lr_finder.range_test(train_loader, end_lr=100, num_iter=100)\n",
        "lr_finder.plot() # to inspect the loss-learning rate graph\n",
        "#lr_finder.reset()"
      ],
      "execution_count": null,
      "outputs": [
        {
          "output_type": "error",
          "ename": "ModuleNotFoundError",
          "evalue": "ignored",
          "traceback": [
            "\u001b[0;31m---------------------------------------------------------------------------\u001b[0m",
            "\u001b[0;31mModuleNotFoundError\u001b[0m                       Traceback (most recent call last)",
            "\u001b[0;32m<ipython-input-97-c4e4301f9e84>\u001b[0m in \u001b[0;36m<module>\u001b[0;34m()\u001b[0m\n\u001b[1;32m      1\u001b[0m \u001b[0;31m#! pip install torch-lr-finder\u001b[0m\u001b[0;34m\u001b[0m\u001b[0;34m\u001b[0m\u001b[0;34m\u001b[0m\u001b[0m\n\u001b[0;32m----> 2\u001b[0;31m \u001b[0;32mfrom\u001b[0m \u001b[0mtorch_lr_finder\u001b[0m \u001b[0;32mimport\u001b[0m \u001b[0mLRFinder\u001b[0m\u001b[0;34m\u001b[0m\u001b[0;34m\u001b[0m\u001b[0m\n\u001b[0m\u001b[1;32m      3\u001b[0m \u001b[0;34m\u001b[0m\u001b[0m\n\u001b[1;32m      4\u001b[0m \u001b[0mmodel\u001b[0m \u001b[0;34m=\u001b[0m \u001b[0mSiamese\u001b[0m\u001b[0;34m(\u001b[0m\u001b[0;34m)\u001b[0m\u001b[0;34m\u001b[0m\u001b[0;34m\u001b[0m\u001b[0m\n\u001b[1;32m      5\u001b[0m \u001b[0mcriterion\u001b[0m \u001b[0;34m=\u001b[0m \u001b[0mnn\u001b[0m\u001b[0;34m.\u001b[0m\u001b[0mBCELoss\u001b[0m\u001b[0;34m(\u001b[0m\u001b[0;34m)\u001b[0m\u001b[0;34m\u001b[0m\u001b[0;34m\u001b[0m\u001b[0m\n",
            "\u001b[0;31mModuleNotFoundError\u001b[0m: No module named 'torch_lr_finder'",
            "",
            "\u001b[0;31m---------------------------------------------------------------------------\u001b[0;32m\nNOTE: If your import is failing due to a missing package, you can\nmanually install dependencies using either !pip or !apt.\n\nTo view examples of installing some common dependencies, click the\n\"Open Examples\" button below.\n\u001b[0;31m---------------------------------------------------------------------------\u001b[0m\n"
          ]
        }
      ]
    },
    {
      "cell_type": "code",
      "metadata": {
        "id": "fWCUPqewXzYz",
        "colab_type": "code",
        "colab": {}
      },
      "source": [
        "optimizer = optim.Adam(net.parameters(), lr = 0.00005, weight_decay=1e-2) #lr = 0.00006)\n",
        "\n",
        "# Decay LR by a factor of 0.1 every 7 epochs\n",
        "exp_lr_scheduler = lr_scheduler.StepLR(optimizer, step_size=7, gamma=0.1)\n"
      ],
      "execution_count": null,
      "outputs": []
    },
    {
      "cell_type": "code",
      "metadata": {
        "id": "q61FPQ4VV8yo",
        "colab_type": "code",
        "colab": {
          "base_uri": "https://localhost:8080/",
          "height": 901
        },
        "outputId": "eba12cb8-bf9d-4033-9d17-bae9e8d89410"
      },
      "source": [
        "# train and evaluate\n",
        "model = train_model(net, optimizer, exp_lr_scheduler, num_epochs=10)"
      ],
      "execution_count": null,
      "outputs": [
        {
          "output_type": "stream",
          "text": [
            "Epoch 0/9\n",
            "----------\n",
            "train Loss: 0.6713\n",
            "val Loss: 0.6343\n",
            "\n",
            "Epoch 1/9\n",
            "----------\n",
            "train Loss: 0.6034\n",
            "val Loss: 0.5517\n",
            "\n",
            "Epoch 2/9\n",
            "----------\n",
            "train Loss: 0.5208\n",
            "val Loss: 0.4600\n",
            "\n",
            "Epoch 3/9\n",
            "----------\n",
            "train Loss: 0.4377\n",
            "val Loss: 0.3829\n",
            "\n",
            "Epoch 4/9\n",
            "----------\n",
            "train Loss: 0.3953\n",
            "val Loss: 0.3765\n",
            "\n",
            "Epoch 5/9\n",
            "----------\n",
            "train Loss: 0.3889\n",
            "val Loss: 0.3708\n",
            "\n",
            "Epoch 6/9\n",
            "----------\n",
            "train Loss: 0.3830\n",
            "val Loss: 0.3652\n",
            "\n",
            "Epoch 7/9\n",
            "----------\n",
            "train Loss: 0.3774\n",
            "val Loss: 0.3600\n",
            "\n",
            "Epoch 8/9\n",
            "----------\n",
            "train Loss: 0.3719\n",
            "val Loss: 0.3545\n",
            "\n",
            "Epoch 9/9\n",
            "----------\n",
            "train Loss: 0.3667\n",
            "val Loss: 0.3496\n",
            "\n",
            "Training complete in 1m 42s\n",
            "Best val loss: 0.349634\n"
          ],
          "name": "stdout"
        }
      ]
    },
    {
      "cell_type": "markdown",
      "metadata": {
        "id": "BpQP8ROGHviL",
        "colab_type": "text"
      },
      "source": [
        "## **Test Trained Network**"
      ]
    },
    {
      "cell_type": "markdown",
      "metadata": {
        "id": "HNzGaprejvkY",
        "colab_type": "text"
      },
      "source": [
        "- Look for architecture (first)\n",
        "- Bayesian optimization \n",
        "- data augmentation\n",
        "- lr finder\n",
        "- weight decay and L2 (optimizer)\n",
        "- check Adam vs SGD with momentum with warm restarts (after lr finder)\n",
        "\n"
      ]
    },
    {
      "cell_type": "markdown",
      "metadata": {
        "id": "tNTao0SZ91sp",
        "colab_type": "text"
      },
      "source": [
        "### Make Supportive set for test accuracy"
      ]
    },
    {
      "cell_type": "code",
      "metadata": {
        "id": "jerCUSF-HupJ",
        "colab_type": "code",
        "colab": {}
      },
      "source": [
        "\n",
        "def make_set(size, genpair):\n",
        "  \"\"\" \n",
        "  This function will make sets for testing accuracy. Each set will include (size) impostor images plus a genuine pair.\n",
        "  (genpair) is the index of genuine pair in test_paired data.\n",
        "  \"\"\"\n",
        "  supportive_set_id = np.random.randint(low=0, high=manatee_data.shape[0], size=size)\n",
        "  # genuine pair\n",
        "  x1,x2 = test_paired[genpair][:2]\n",
        "  # support set\n",
        "  ss = manatee_data[supportive_set_id]\n",
        "  # combine genuine pair and support set\n",
        "  Set = [x1,x2]\n",
        "  for i in ss:\n",
        "    Set.append(i)\n",
        "  return Set, supportive_set_id\n",
        "\n",
        "Set1, supportive_set_id = make_set(20,2)"
      ],
      "execution_count": null,
      "outputs": []
    },
    {
      "cell_type": "code",
      "metadata": {
        "id": "AlJA4LE19yhq",
        "colab_type": "code",
        "colab": {}
      },
      "source": [
        "def preprocess(img):\n",
        "  \"\"\" \n",
        "  This function will preprocess a raw nparray image to a normalized torch tensor with batch dimension added\n",
        "  \"\"\"\n",
        "  # perform trasformations (normalize, scale)\n",
        "  pil_im = Image.fromarray(img, mode='1')\n",
        "  preprocess = transforms.Compose([transforms.ToTensor(),\n",
        "                                 transforms.Normalize([mean], [std])\n",
        "                                 ])\n",
        "  preprocessed_im = preprocess(pil_im)\n",
        "  # add batch dimension\n",
        "  im = torch.unsqueeze(preprocessed_im, 0)\n",
        "  return im\n"
      ],
      "execution_count": null,
      "outputs": []
    },
    {
      "cell_type": "code",
      "metadata": {
        "id": "8-oPZa_SGXay",
        "colab_type": "code",
        "colab": {}
      },
      "source": [
        "# Compute similarity between anchor im and every other img in the Set\n",
        "def compute_sim(Set):\n",
        "  anchor = Set[0]\n",
        "  prep_anchor = preprocess(anchor)\n",
        "  prep_anchor = prep_anchor.to(device)\n",
        "  ss = Set[1:]\n",
        "  out_list = []\n",
        "  for img in ss:\n",
        "    prep_im = preprocess(img)\n",
        "    prep_im = prep_im.to(device)\n",
        "    with torch.no_grad():\n",
        "      out = model(prep_anchor, prep_im)\n",
        "    out_list.append(out)\n",
        "  return out_list"
      ],
      "execution_count": null,
      "outputs": []
    },
    {
      "cell_type": "code",
      "metadata": {
        "id": "dAT67yCIKM8j",
        "colab_type": "code",
        "colab": {
          "base_uri": "https://localhost:8080/",
          "height": 204
        },
        "outputId": "fa44f898-298b-4464-d6f9-ec61d0e69af1"
      },
      "source": [
        "out = compute_sim(Set1)\n",
        "out_np = np.array(out)\n",
        "out_np.argmax()\n",
        "\n",
        "print(out_np)"
      ],
      "execution_count": 192,
      "outputs": [
        {
          "output_type": "stream",
          "text": [
            "[tensor([[0.4370]], device='cuda:0') tensor([[0.3845]], device='cuda:0')\n",
            " tensor([[0.1664]], device='cuda:0') tensor([[0.3036]], device='cuda:0')\n",
            " tensor([[0.1870]], device='cuda:0') tensor([[0.5198]], device='cuda:0')\n",
            " tensor([[0.2590]], device='cuda:0') tensor([[0.3635]], device='cuda:0')\n",
            " tensor([[0.1664]], device='cuda:0') tensor([[0.2590]], device='cuda:0')\n",
            " tensor([[0.5048]], device='cuda:0') tensor([[0.3407]], device='cuda:0')\n",
            " tensor([[0.1706]], device='cuda:0') tensor([[0.4527]], device='cuda:0')\n",
            " tensor([[0.4617]], device='cuda:0') tensor([[0.4542]], device='cuda:0')\n",
            " tensor([[0.1870]], device='cuda:0') tensor([[0.5070]], device='cuda:0')\n",
            " tensor([[0.4245]], device='cuda:0') tensor([[0.2590]], device='cuda:0')\n",
            " tensor([[0.1754]], device='cuda:0')]\n"
          ],
          "name": "stdout"
        }
      ]
    },
    {
      "cell_type": "code",
      "metadata": {
        "id": "VcZKLnyHUgQt",
        "colab_type": "code",
        "colab": {
          "base_uri": "https://localhost:8080/",
          "height": 165
        },
        "outputId": "54bdea22-78f3-47f0-9cb3-ef0470ed4d16"
      },
      "source": [
        "x1,x2 = test_paired[2][:2]\n",
        "genuine_pair = [x1,x2]\n",
        "\n",
        "plt.figure(figsize=(105,105))\n",
        "columns = 2\n",
        "for i, image in enumerate(genuine_pair):\n",
        "  plt.subplot(len(sup_set) / columns + 1, columns, i + 1)\n",
        "  plt.imshow(image)"
      ],
      "execution_count": null,
      "outputs": [
        {
          "output_type": "display_data",
          "data": {
            "image/png": "[encoded data removed]",
            "text/plain": [
              "<Figure size 7560x7560 with 2 Axes>"
            ]
          },
          "metadata": {
            "tags": [],
            "needs_background": "light"
          }
        }
      ]
    },
    {
      "cell_type": "code",
      "metadata": {
        "id": "NUZ-CtMKRlMT",
        "colab_type": "code",
        "colab": {
          "base_uri": "https://localhost:8080/",
          "height": 483
        },
        "outputId": "fa3a0c1e-78b1-44b2-8df6-64c07145d377"
      },
      "source": [
        "from IPython.display import display \n",
        "%matplotlib inline \n",
        "\n",
        "sup_set = manatee_data[supportive_set_id]\n",
        "\n",
        "plt.figure(figsize=(20,10))\n",
        "columns = 5\n",
        "for i, image,score in enumerate(sup_set):\n",
        "  plt.subplot(len(sup_set) / columns + 1, columns, i + 1)\n",
        "  plt.imshow(image)"
      ],
      "execution_count": null,
      "outputs": [
        {
          "output_type": "display_data",
          "data": {
            "image/png": "[encoded data removed]",
            "text/plain": [
              "<Figure size 1440x720 with 20 Axes>"
            ]
          },
          "metadata": {
            "tags": [],
            "needs_background": "light"
          }
        }
      ]
    },
    {
      "cell_type": "code",
      "metadata": {
        "id": "FbzXtlmhctxW",
        "colab_type": "code",
        "colab": {
          "base_uri": "https://localhost:8080/",
          "height": 34
        },
        "outputId": "346965a5-8cd7-4ed2-8be9-008b9b791c6a"
      },
      "source": [
        "num_correct = 0\n",
        "# 72 is the number of genuine pairs in test set\n",
        "for i in range(72):\n",
        "  Set,_ = make_set(10,i)\n",
        "  out_list = compute_sim(Set)\n",
        "  set_np = np.array(out_list)\n",
        "  if set_np.argmax() == 0:\n",
        "    num_correct += 1\n",
        "\n",
        "print(num_correct)"
      ],
      "execution_count": 205,
      "outputs": [
        {
          "output_type": "stream",
          "text": [
            "55\n"
          ],
          "name": "stdout"
        }
      ]
    },
    {
      "cell_type": "code",
      "metadata": {
        "id": "NhauJHj5ghZm",
        "colab_type": "code",
        "colab": {
          "base_uri": "https://localhost:8080/",
          "height": 34
        },
        "outputId": "4286682b-6e45-4ad0-ce4e-3ceb2e56e15a"
      },
      "source": [
        "print(f'Accuracy for test set is {num_correct/72}')"
      ],
      "execution_count": 206,
      "outputs": [
        {
          "output_type": "stream",
          "text": [
            "Accuracy for test set is 0.7638888888888888\n"
          ],
          "name": "stdout"
        }
      ]
    }
  ]
}